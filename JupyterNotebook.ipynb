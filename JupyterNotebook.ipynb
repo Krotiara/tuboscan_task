{
 "cells": [
  {
   "cell_type": "code",
   "execution_count": 3,
   "metadata": {},
   "outputs": [
    {
     "name": "stdout",
     "output_type": "stream",
     "text": [
      "(6812, 11)\n",
      "(6095, 11)\n"
     ]
    }
   ],
   "source": [
    "from App.DatasetLoader import DatasetLoader\n",
    "from App.DataAnalyzer import DataAnalyzer\n",
    "from App.DataPreProcessor import DataPreProcessor\n",
    "\n",
    "loader = DatasetLoader()\n",
    "analyzer = DataAnalyzer()\n",
    "preprocessor = DataPreProcessor()\n",
    "dataframe = loader.load_dataset('Files/dataset.csv')\n",
    "preprocessedData = preprocessor.preprocess_data(dataframe)\n"
   ]
  },
  {
   "cell_type": "code",
   "execution_count": null,
   "metadata": {},
   "outputs": [],
   "source": [
    "analyzer.plot_correlation_matrix(preprocessedData)"
   ]
  }
 ],
 "metadata": {
  "interpreter": {
   "hash": "7bfc18074dc7e68f3ddb3fa959a05b4325d29e954f13f0b20b812921e4019468"
  },
  "kernelspec": {
   "display_name": "Python 3.10.0 64-bit",
   "language": "python",
   "name": "python3"
  },
  "language_info": {
   "codemirror_mode": {
    "name": "ipython",
    "version": 3
   },
   "file_extension": ".py",
   "mimetype": "text/x-python",
   "name": "python",
   "nbconvert_exporter": "python",
   "pygments_lexer": "ipython3",
   "version": "3.10.0"
  },
  "orig_nbformat": 4
 },
 "nbformat": 4,
 "nbformat_minor": 2
}
